{
 "cells": [
  {
   "cell_type": "code",
   "execution_count": 1,
   "metadata": {},
   "outputs": [
    {
     "name": "stdout",
     "output_type": "stream",
     "text": [
      "[name: \"/device:CPU:0\"\n",
      "device_type: \"CPU\"\n",
      "memory_limit: 268435456\n",
      "locality {\n",
      "}\n",
      "incarnation: 14868436095863652026\n",
      ", name: \"/device:XLA_GPU:0\"\n",
      "device_type: \"XLA_GPU\"\n",
      "memory_limit: 17179869184\n",
      "locality {\n",
      "}\n",
      "incarnation: 11316515364605148041\n",
      "physical_device_desc: \"device: XLA_GPU device\"\n",
      ", name: \"/device:XLA_CPU:0\"\n",
      "device_type: \"XLA_CPU\"\n",
      "memory_limit: 17179869184\n",
      "locality {\n",
      "}\n",
      "incarnation: 8187083035468691038\n",
      "physical_device_desc: \"device: XLA_CPU device\"\n",
      ", name: \"/device:GPU:0\"\n",
      "device_type: \"GPU\"\n",
      "memory_limit: 189988864\n",
      "locality {\n",
      "  bus_id: 1\n",
      "  links {\n",
      "  }\n",
      "}\n",
      "incarnation: 3372258362895657071\n",
      "physical_device_desc: \"device: 0, name: Tesla P4, pci bus id: 0000:00:04.0, compute capability: 6.1\"\n",
      "]\n"
     ]
    }
   ],
   "source": [
    "from tensorflow.python.client import device_lib\n",
    "print(device_lib.list_local_devices())"
   ]
  },
  {
   "cell_type": "code",
   "execution_count": null,
   "metadata": {},
   "outputs": [],
   "source": [
    "# without FAKE images\n",
    "import os\n",
    "import sys\n",
    "import tensorflow as tf\n",
    "sys.path.append('../')\n",
    "\n",
    "\n",
    "from codes.data.utils import train_and_test_model\n",
    "from codes.data.load_data import load_files\n",
    "\n",
    "src_folder =\"/tf/dataset/classes/\" \n",
    "filenamepattern = \"*.png\"\n",
    "\n",
    "file40 = os.path.join(src_folder , \"40\",filenamepattern)\n",
    "file100 = os.path.join(src_folder ,\"100\",filenamepattern)\n",
    "file200 = os.path.join(src_folder ,\"200\",filenamepattern)\n",
    "file400 = os.path.join(src_folder ,\"400\",filenamepattern)\n",
    "\n",
    "list_dataset = []\n",
    "\n",
    "dataset40 = tf.data.Dataset.list_files(file_pattern=file40)\n",
    "#dataset100 = tf.data.Dataset.list_files(file_pattern=os.path.join(file100,filenamepattern),shuffle=True)\n",
    "#dataset200 = tf.data.Dataset.list_files(file_pattern=os.path.join(file200,filenamepattern),shuffle=True)\n",
    "#dataset400 = tf.data.Dataset.list_files(file_pattern=os.path.join(file400,filenamepattern),shuffle=True) \n",
    "    \n",
    "print(file40)\n"
   ]
  },
  {
   "cell_type": "code",
   "execution_count": null,
   "metadata": {},
   "outputs": [],
   "source": []
  }
 ],
 "metadata": {
  "kernelspec": {
   "display_name": "Python 3",
   "language": "python",
   "name": "python3"
  },
  "language_info": {
   "codemirror_mode": {
    "name": "ipython",
    "version": 3
   },
   "file_extension": ".py",
   "mimetype": "text/x-python",
   "name": "python",
   "nbconvert_exporter": "python",
   "pygments_lexer": "ipython3",
   "version": "3.5.2"
  }
 },
 "nbformat": 4,
 "nbformat_minor": 2
}
