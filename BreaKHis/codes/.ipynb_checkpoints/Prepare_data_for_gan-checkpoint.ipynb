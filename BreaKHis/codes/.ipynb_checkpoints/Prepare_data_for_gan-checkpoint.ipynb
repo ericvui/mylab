{
 "cells": [
  {
   "cell_type": "code",
   "execution_count": 1,
   "metadata": {},
   "outputs": [],
   "source": [
    "import os\n",
    "import sys\n"
   ]
  },
  {
   "cell_type": "code",
   "execution_count": 3,
   "metadata": {},
   "outputs": [
    {
     "name": "stdout",
     "output_type": "stream",
     "text": [
      "Num of deleted files:5842 & kept files:2081\n"
     ]
    }
   ],
   "source": [
    "'''\n",
    "    Remove files\n",
    "'''\n",
    "keep_file = \"-100-\"\n",
    "keep_cancer_type = \"_B_\"\n",
    "all_folder = \"C:\\\\dataset\\\\BreaKHis\\\\histology_slides\\\\breast - 100\"\n",
    "i_removed = 0\n",
    "i_kept = 0\n",
    "for dirpath, dirnames, filenames in os.walk(all_folder,topdown=False):\n",
    "    for fname in filenames:\n",
    "        if fname.find(keep_file) == -1: #and fname.find(keep_cancer_type) == -1:\n",
    "            filename = os.path.join(dirpath, fname)\n",
    "            os.remove(filename)\n",
    "            i_removed = i_removed + 1\n",
    "        else:\n",
    "            i_kept = i_kept + 1\n",
    "        if len(os.listdir(dirpath)) == 0:\n",
    "            os.rmdir(dirpath)\n",
    "print(\"Num of deleted files:{} & kept files:{}\" .format(i_removed,i_kept) )"
   ]
  },
  {
   "cell_type": "code",
   "execution_count": 24,
   "metadata": {},
   "outputs": [],
   "source": [
    "'''\n",
    "    Create a text file containing a pair of images of original and conditional images\n",
    "'''\n",
    "\n",
    "#base image: 40X\n",
    "#conditional image: 100X, 200X, 400X\n",
    "\n",
    "import sys\n",
    "sys.path.append('../')\n",
    "\n",
    "base_file = \"C:\\\\dataset\\\\BreaKHis\\\\histology_slides\\\\breast - 40 - B\"\n",
    "cond4x_file = \"C:\\\\dataset\\\\BreaKHis\\\\histology_slides\\\\breast - 100 - B\"\n",
    "output_file = 'D:\\\\gan_file_one_many.csv'\n",
    "import os\n",
    "import csv\n",
    "lines = []\n",
    "#base files\n",
    "for path, _ , files in os.walk(base_file):\n",
    "    for f in files:\n",
    "        base_full_filename = os.path.join(path, f)\n",
    "        if f.endswith(\".png\"):\n",
    "            cond_path = path.replace(\"breast - 40\",\"breast - 100\")\n",
    "            cond_path = cond_path.replace(\"40X\",\"100X\")\n",
    "            for subpath,_,files_cond in os.walk(cond_path):\n",
    "                for f_cond in files_cond:\n",
    "                    line = base_full_filename + \",\" + os.path.join(subpath, f_cond)\n",
    "                    lines.append(line)\n",
    "            \n",
    "with open(output_file, 'w') as writer:\n",
    "    for line in lines:\n",
    "        writer.write(line + \"\\n\")"
   ]
  },
  {
   "cell_type": "code",
   "execution_count": null,
   "metadata": {},
   "outputs": [],
   "source": []
  }
 ],
 "metadata": {
  "kernelspec": {
   "display_name": "Python 3",
   "language": "python",
   "name": "python3"
  },
  "language_info": {
   "codemirror_mode": {
    "name": "ipython",
    "version": 3
   },
   "file_extension": ".py",
   "mimetype": "text/x-python",
   "name": "python",
   "nbconvert_exporter": "python",
   "pygments_lexer": "ipython3",
   "version": "3.6.8"
  }
 },
 "nbformat": 4,
 "nbformat_minor": 2
}
