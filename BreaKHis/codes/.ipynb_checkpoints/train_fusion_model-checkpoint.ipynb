{
 "cells": [
  {
   "cell_type": "code",
   "execution_count": null,
   "metadata": {},
   "outputs": [],
   "source": [
    "import sys\n",
    "sys.path.append('../')\n",
    "import os\n",
    "from codes.model.unet_network import unet\n",
    "from codes.data.load_data import load_files\n",
    "from codes.data.utils import evaluate_model,predict_model\n",
    "\n",
    "import datetime\n",
    "\n",
    "import numpy as np\n",
    "import time"
   ]
  },
  {
   "cell_type": "code",
   "execution_count": null,
   "metadata": {},
   "outputs": [],
   "source": [
    "experiment = \"C:\\\\Experiments\"\n",
    "ratio = 0.7\n",
    "\n",
    "#Prepare dataset 40X\n",
    "files_40 = \"C:\\\\dataset\\\\BreaKHis\\\\histology_slides\\\\breast\"\n",
    "vol_40 = 7909\n",
    "list_dataset_40 = load_files(src_folder=files_40,split=ratio, filenamepattern=\"*.png\",dataset_volume = vol_40,flag=1) \n",
    "train_40 = list_dataset_40[0]\n",
    "val_40 = list_dataset_40[2]\n",
    "\n",
    "#Prepare dataset 100X\n",
    "files_100 = \"C:\\\\dataset\\\\BreaKHis\\\\histology_slides\\\\breast\"\n",
    "vol_100 = 7909\n",
    "list_dataset_100 = load_files(src_folder=files_100,split=ratio, filenamepattern=\"*.png\",dataset_volume = vol_100,flag=1) \n",
    "train_100 = list_dataset_100[0]\n",
    "val_100 = list_dataset_100[2]\n",
    "\n",
    "#Prepare dataset 200X\n",
    "files_200 = \"C:\\\\dataset\\\\BreaKHis\\\\histology_slides\\\\breast\"\n",
    "vol_200 = 7909\n",
    "list_dataset_200 = load_files(src_folder=files_200,split=ratio, filenamepattern=\"*.png\",dataset_volume = vol_200,flag=1) \n",
    "train_200 = list_dataset_200[0]\n",
    "val_200 = list_dataset_200[2]\n",
    "\n",
    "#Prepare dataset 400X\n",
    "files_400 = \"C:\\\\dataset\\\\BreaKHis\\\\histology_slides\\\\breast\"\n",
    "vol_400 = 7909\n",
    "list_dataset_400 = load_files(src_folder=files_400,split=ratio, filenamepattern=\"*.png\",dataset_volume = vol_400,flag=1) \n",
    "train_400 = list_dataset_200[0]\n",
    "val_400 = list_dataset_200[2]\n"
   ]
  },
  {
   "cell_type": "code",
   "execution_count": null,
   "metadata": {},
   "outputs": [],
   "source": [
    "#train fusion model\n",
    "model_40 = unet(remove_classifier=1)\n",
    "model_100 = unet(remove_classifier=1)\n",
    "model_200 = unet(remove_classifier=1)\n",
    "model_400 = unet(remove_classifier=1)\n",
    "merged = concatenate([model_40.output, model_100.output,model_200.output,model_400.output],axis=2)\n"
   ]
  }
 ],
 "metadata": {
  "kernelspec": {
   "display_name": "Python 3",
   "language": "python",
   "name": "python3"
  },
  "language_info": {
   "codemirror_mode": {
    "name": "ipython",
    "version": 3
   },
   "file_extension": ".py",
   "mimetype": "text/x-python",
   "name": "python",
   "nbconvert_exporter": "python",
   "pygments_lexer": "ipython3",
   "version": "3.6.8"
  }
 },
 "nbformat": 4,
 "nbformat_minor": 2
}
