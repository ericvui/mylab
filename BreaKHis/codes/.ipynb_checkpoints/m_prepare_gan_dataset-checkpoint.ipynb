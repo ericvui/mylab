{
 "cells": [
  {
   "cell_type": "code",
   "execution_count": 2,
   "metadata": {},
   "outputs": [],
   "source": [
    "import os\n",
    "import sys\n",
    "dirs =\"/tf/dataset/classes\" \n",
    "sizes = ['40','100','200','400']"
   ]
  },
  {
   "cell_type": "code",
   "execution_count": 3,
   "metadata": {},
   "outputs": [],
   "source": [
    "# create B/M csv file to stores a images list\n",
    "for size in sizes:\n",
    "    B_arr = []\n",
    "    M_arr = []\n",
    "    dir_size = os.path.join(dirs,size)\n",
    "    for dirpath, dirnames, filenames in os.walk(dir_size,topdown=False):\n",
    "        for fn in filenames:\n",
    "            parts = fn.split(\"_\")\n",
    "            if parts[1] == \"B\":\n",
    "                B_arr.append(os.path.join(dirpath,fn))\n",
    "            else:\n",
    "                M_arr.append(os.path.join(dirpath,fn))\n",
    "    B_file = os.path.join(dirs , \"B_{}_files.csv\" . format(size))\n",
    "    M_file = os.path.join(dirs , \"M_{}_files.csv\" . format(size))\n",
    "    with open(B_file, 'w') as writer:\n",
    "        for line in B_arr:\n",
    "            writer.write(line + \"\\n\")\n",
    "    with open(M_file, 'w') as writer:\n",
    "        for line in M_arr:\n",
    "            writer.write(line + \"\\n\")"
   ]
  },
  {
   "cell_type": "code",
   "execution_count": 29,
   "metadata": {},
   "outputs": [],
   "source": [
    "# create training data file \n",
    "import random \n",
    "\n",
    "epoches = 5\n",
    "cancer_type = \"B\"\n",
    "generated_size = \"40\"\n",
    "sizes = ['40','100','200','400']\n",
    "dirs = \"/tf/dataset/classes\"\n",
    "for epoch in range(epoches):\n",
    "    cond_images = []\n",
    "    orgi_images = []\n",
    "    for size in sizes:\n",
    "        data_file = \"{}_{}_files.csv\" . format(cancer_type,size)\n",
    "        if size != generated_size:\n",
    "            with open(os.path.join(dirs,data_file), \"r\") as f:\n",
    "                lines = f.readlines()\n",
    "            for ln in lines:\n",
    "                cond_images.append(ln)\n",
    "        else:\n",
    "            with open(os.path.join(dirs,data_file), \"r\") as f:\n",
    "                lines = f.readlines()\n",
    "            for ln in lines:\n",
    "                orgi_images.append(ln)\n",
    "    result_images = []\n",
    "    random.shuffle(cond_images)\n",
    "    for fn_org in orgi_images:\n",
    "        idx = random.randint(1,len(cond_images)-1)\n",
    "        gen_line =  cond_images[idx] +\",\" + fn_org\n",
    "        \n",
    "        result_images.append(gen_line)\n",
    "    \n",
    "    output_file = os.path.join(dirs,\"gan_epoch_{}.csv\".format(epoch))\n",
    "    with open(output_file, 'w') as writer:\n",
    "        for line in result_images:\n",
    "            writer.write(line + \"\\n\")"
   ]
  },
  {
   "cell_type": "code",
   "execution_count": 7,
   "metadata": {},
   "outputs": [],
   "source": [
    "import os\n",
    "from PIL import Image\n",
    "from random import randint\n",
    "import numpy as np\n",
    "bach_files = \"/tf/dataset/BACH/*/*.tif\"\n",
    "dest_dir = \"/tf/dataset/classes\"\n",
    "rows = 1536\n",
    "cols = 2048\n",
    "image_size = (256,256)\n",
    "n_cropped = 10  # there are 10 cropped image per whole image\n",
    "for dirpath, dirnames, files_list in os.walk(bach_files):\n",
    "    for fn in files_list:\n",
    "        if fn[0] == \"n\" or fn[0] == \"b\": # begnin cancer\n",
    "            sub_dir = \"BACH_B\"\n",
    "            cancer_type = \"B\"\n",
    "        else: # malgnin cancer is + iv\n",
    "            sub_dir = \"BACH_M\"\n",
    "            cancer_type = \"M\"\n",
    "        \n",
    "        im = Image.open(os.path.join(dirpath,fn)) \n",
    "        imarray = np.array(im)\n",
    "        \n",
    "        for pos in range(n_cropped):\n",
    "            pos_x = randint(0, rows - image_size[0])\n",
    "            pos_y = randint(0, cols - image_size[1])\n",
    "            sub_img = imarray[pos_x:pos_x+image_size[0],pos_y:image_size[1],:]\n",
    "            out_im = Image.fromarray(sub_img)\n",
    "            out_im.save(os.path.join(dirpath,sub_dir,\"BACH_{}_{}_{}.png\" . format(cancer_type,fn.split('.')[0], pos)))\n"
   ]
  },
  {
   "cell_type": "code",
   "execution_count": 6,
   "metadata": {},
   "outputs": [],
   "source": [
    "\n",
    "for _,_,x in os.walk(bach_files):\n",
    "    print(x)"
   ]
  }
 ],
 "metadata": {
  "kernelspec": {
   "display_name": "Python 3",
   "language": "python",
   "name": "python3"
  },
  "language_info": {
   "codemirror_mode": {
    "name": "ipython",
    "version": 3
   },
   "file_extension": ".py",
   "mimetype": "text/x-python",
   "name": "python",
   "nbconvert_exporter": "python",
   "pygments_lexer": "ipython3",
   "version": "3.5.2"
  }
 },
 "nbformat": 4,
 "nbformat_minor": 2
}
