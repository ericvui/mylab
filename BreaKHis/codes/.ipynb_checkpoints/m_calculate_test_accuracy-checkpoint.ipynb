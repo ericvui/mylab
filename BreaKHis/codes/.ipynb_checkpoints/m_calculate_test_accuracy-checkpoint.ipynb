{
 "cells": [
  {
   "cell_type": "code",
   "execution_count": 1,
   "metadata": {},
   "outputs": [],
   "source": [
    "import os\n",
    "import sys\n",
    "sys.path.append('../')\n",
    "import pandas as pd\n",
    "import numpy as np"
   ]
  },
  {
   "cell_type": "code",
   "execution_count": 2,
   "metadata": {},
   "outputs": [],
   "source": [
    "#csv_file = '/tf/dataset/log_test_vgg_256x256_4dividen.csv' # divide full image into 4\n",
    "#csv_file = '/tf/dataset/log_test_vgg_256x256_h_v.csv' # divide full image into 4\n",
    "csv_file = '/tf/dataset/retest1_log_vgg16_256x256_5cv.csv'\n",
    "result_dataset = pd.read_csv(csv_file,names = ['epoch','image','true_label','prob_predict','accuracy'])"
   ]
  },
  {
   "cell_type": "code",
   "execution_count": 39,
   "metadata": {},
   "outputs": [],
   "source": [
    "#vote=2 ==> majority voting\n",
    "#vote=1 ==> at least there is an accuracy vote ==> correct\n",
    "#vote=3 ==> majority voting and if equal together, right accuracy will be voted\n",
    "def calculate_accuracy(type_images,full_images,size_images,patch_acc,patch_w_acc,vote=2):\n",
    "    M_num, M_acc = 0,0\n",
    "    B_num, B_acc = 0,0\n",
    "    s40_num, s40_acc = 0,0\n",
    "    s100_num, s100_acc = 0,0\n",
    "    s200_num, s200_acc = 0,0\n",
    "    s400_num, s400_acc = 0,0\n",
    "    for i in range(len(full_images)):\n",
    "        acc = patch_acc[i]\n",
    "        w_acc = patch_w_acc[i]\n",
    "        pred_acc, pred_w_acc = 0,0\n",
    "        if vote==2:\n",
    "            if patch_acc[i] > patch_w_acc[i]:\n",
    "                pred_acc = 1\n",
    "            else:\n",
    "                pred_acc = 0\n",
    "        elif vote==3:\n",
    "            if patch_acc[i] >= patch_w_acc[i]:\n",
    "                pred_acc = 1\n",
    "            else:\n",
    "                pred_acc = 0\n",
    "        else :\n",
    "            if patch_acc[i] > 0:\n",
    "                pred_acc = 1\n",
    "            else:\n",
    "                pred_acc = 0            \n",
    "        \n",
    "        if size_images[i] == '40' :\n",
    "            s40_num += 1\n",
    "            s40_acc += pred_acc\n",
    "        elif size_images[i] == '100' :\n",
    "            s100_num += 1\n",
    "            s100_acc += pred_acc\n",
    "        elif size_images[i] == '200' :\n",
    "            s200_num += 1\n",
    "            s200_acc += pred_acc\n",
    "        elif size_images[i] == '400' :\n",
    "            s400_num += 1\n",
    "            s400_acc += pred_acc    \n",
    "            \n",
    "        if type_images[i] == 'M':\n",
    "            M_num +=1\n",
    "            M_acc +=pred_acc\n",
    "        else:\n",
    "            B_num +=1\n",
    "            B_acc +=pred_acc\n",
    "        \n",
    "\n",
    "    return (M_acc/M_num),(B_acc/B_num),len(full_images),(M_acc+B_acc)/len(full_images),(s40_acc/s40_num),(s100_acc/s100_num),(s200_acc/s200_num), (s400_acc/s400_num)"
   ]
  },
  {
   "cell_type": "code",
   "execution_count": 41,
   "metadata": {},
   "outputs": [
    {
     "name": "stdout",
     "output_type": "stream",
     "text": [
      "Epoch:0 - Total 1583 images is 0.937 acuracy - Belgnin accuracy: 0.8165 - Malgnin accuracy: 0.9883; 40 mag rate 0.942; 100 mag rate: 0.942; 200 mag rate:0.948; 400 mag rate: 0.912\n",
      "Epoch:1 - Total 1582 images is 0.970 acuracy - Belgnin accuracy: 0.9223 - Malgnin accuracy: 0.9918; 40 mag rate 0.990; 100 mag rate: 0.974; 200 mag rate:0.955; 400 mag rate: 0.962\n",
      "Epoch:2 - Total 1582 images is 0.983 acuracy - Belgnin accuracy: 0.9651 - Malgnin accuracy: 0.9909; 40 mag rate 0.985; 100 mag rate: 0.995; 200 mag rate:0.983; 400 mag rate: 0.967\n",
      "Epoch:3 - Total 1581 images is 0.980 acuracy - Belgnin accuracy: 0.9748 - Malgnin accuracy: 0.9822; 40 mag rate 0.982; 100 mag rate: 0.986; 200 mag rate:0.988; 400 mag rate: 0.962\n",
      "Epoch:4 - Total 1581 images is 0.995 acuracy - Belgnin accuracy: 0.9864 - Malgnin accuracy: 0.9991; 40 mag rate 0.995; 100 mag rate: 0.990; 200 mag rate:1.000; 400 mag rate: 0.995\n",
      "------------------VOTING 1 by file [/tf/dataset/retest1_log_vgg16_256x256_5cv.csv]  -----------------\n",
      "TOTAL: 0.973 +/- 0.020\n",
      "40 size : 0.979 +/- 0.019\n",
      "100 size : 0.977 +/- 0.019\n",
      "200 size : 0.975 +/- 0.020\n",
      "400 size : 0.959 +/- 0.027\n"
     ]
    }
   ],
   "source": [
    "# ignore maginification rate\n",
    "epoches = 5\n",
    "total_size_40,total_size_100,total_size_200, total_size_400 = [],[],[],[]\n",
    "total_img = []\n",
    "voting = 1\n",
    "for epo in range(epoches):\n",
    "    epoch_ds = result_dataset.loc[result_dataset['epoch'] == epo]\n",
    "    epoch_ds = epoch_ds.reset_index()\n",
    "    patch_images = []\n",
    "    full_images = []\n",
    "    patch_acc,patch_w_acc = [],[]\n",
    "    type_images = []\n",
    "    size_images = []\n",
    "    for i in range(len(epoch_ds)):\n",
    "        filename = epoch_ds['image'][i].split('/')[-1].split('.')[0]\n",
    "        acc = epoch_ds['accuracy'][i]\n",
    "        typ = filename.split('_')[1]\n",
    "        size = filename.split('_')[2].split('-')[3]\n",
    "        idx =  filename.split('_')[2].split('-')[5]\n",
    "        instance = filename.split('_')[2][:-2]\n",
    "        patch_images.append({'type':typ, 'size':size, 'instance' : instance,'patch' : idx , 'acc' : acc })\n",
    "        if instance not in full_images:\n",
    "            full_images.append(instance)\n",
    "            if acc == 1:\n",
    "                patch_acc.append(acc)\n",
    "                patch_w_acc.append(0)\n",
    "            else:\n",
    "                patch_acc.append(0)\n",
    "                patch_w_acc.append(1)                \n",
    "            type_images.append(typ)\n",
    "            size_images.append(size)\n",
    "        else:\n",
    "            for i in range(len(full_images)):\n",
    "                if full_images[i] == instance:\n",
    "                    if acc == 1:\n",
    "                        patch_acc[i] += acc\n",
    "                    else:\n",
    "                        patch_w_acc[i] += 1\n",
    "    M_acc_pct,B_acc_pct, total, all_accuracy, acc40, acc100, acc200, acc400  = calculate_accuracy(type_images,full_images,size_images,patch_acc,patch_w_acc,vote=voting)\n",
    "    total_size_40.append(acc40)\n",
    "    total_size_100.append(acc100)\n",
    "    total_size_200.append(acc200)\n",
    "    total_size_400.append(acc400)\n",
    "    total_img.append(all_accuracy)\n",
    "    print('Epoch:%d - Total %d images is %0.3f acuracy - Belgnin accuracy: %0.4f - Malgnin accuracy: %0.4f; 40 mag rate %0.3f; 100 mag rate: %0.3f; 200 mag rate:%0.3f; 400 mag rate: %0.3f' \n",
    "          % (epo,total,all_accuracy,B_acc_pct,M_acc_pct, acc40, acc100, acc200, acc400) )\n",
    "\n",
    "print('------------------VOTING %d by file [%s]  -----------------' % (voting,csv_file) )\n",
    "print('TOTAL: %0.3f +/- %0.3f' % (np.mean(total_img) , np.std(total_img) )    )\n",
    "print('40 size : %0.3f +/- %0.3f' % (np.mean(total_size_40) , np.std(total_size_40) )   )\n",
    "print('100 size : %0.3f +/- %0.3f' % (np.mean(total_size_100) , np.std(total_size_100) )    )\n",
    "print('200 size : %0.3f +/- %0.3f' % (np.mean(total_size_200) , np.std(total_size_200) )  )\n",
    "print('400 size : %0.3f +/- %0.3f' % (np.mean(total_size_400) , np.std(total_size_400) )   ) "
   ]
  },
  {
   "cell_type": "code",
   "execution_count": 1,
   "metadata": {},
   "outputs": [
    {
     "name": "stdout",
     "output_type": "stream",
     "text": [
      "Epoch:0 - Total 1583 images is 0.878 acuracy - Belgnin accuracy: 0.6730 - Malgnin accuracy: 0.9657; 40 mag rate 0.872; 100 mag rate: 0.892; 200 mag rate:0.908; 400 mag rate: 0.835\n",
      "Epoch:1 - Total 1582 images is 0.912 acuracy - Belgnin accuracy: 0.7791 - Malgnin accuracy: 0.9716; 40 mag rate 0.927; 100 mag rate: 0.913; 200 mag rate:0.906; 400 mag rate: 0.901\n",
      "Epoch:2 - Total 1582 images is 0.936 acuracy - Belgnin accuracy: 0.8994 - Malgnin accuracy: 0.9525; 40 mag rate 0.945; 100 mag rate: 0.938; 200 mag rate:0.945; 400 mag rate: 0.915\n",
      "Epoch:3 - Total 1581 images is 0.922 acuracy - Belgnin accuracy: 0.8837 - Malgnin accuracy: 0.9408; 40 mag rate 0.925; 100 mag rate: 0.933; 200 mag rate:0.943; 400 mag rate: 0.885\n",
      "Epoch:4 - Total 1581 images is 0.946 acuracy - Belgnin accuracy: 0.8949 - Malgnin accuracy: 0.9700; 40 mag rate 0.952; 100 mag rate: 0.952; 200 mag rate:0.943; 400 mag rate: 0.934\n",
      "------------------VOTING: [method_A] by file [/tf/dataset/retest1_log_vgg16_256x256_5cv.csv]  -----------------\n",
      "TOTAL: 0.919 +/- 0.023\n",
      "40 size : 0.924 +/- 0.028\n",
      "100 size : 0.926 +/- 0.021\n",
      "200 size : 0.929 +/- 0.018\n",
      "400 size : 0.894 +/- 0.034\n"
     ]
    }
   ],
   "source": [
    "import sys\n",
    "sys.path.append('../') \n",
    "from codes.data.calculate_accuracy import get_calculate_accuracy\n",
    "\n",
    "csv_file = '/tf/dataset/retest1_log_vgg16_256x256_5cv.csv'\n",
    "epoches=5\n",
    "voting='method_A'\n",
    "get_calculate_accuracy(csv_file,epoches,'method_A')"
   ]
  },
  {
   "cell_type": "code",
   "execution_count": null,
   "metadata": {},
   "outputs": [],
   "source": []
  }
 ],
 "metadata": {
  "kernelspec": {
   "display_name": "Python 3",
   "language": "python",
   "name": "python3"
  },
  "language_info": {
   "codemirror_mode": {
    "name": "ipython",
    "version": 3
   },
   "file_extension": ".py",
   "mimetype": "text/x-python",
   "name": "python",
   "nbconvert_exporter": "python",
   "pygments_lexer": "ipython3",
   "version": "3.5.2"
  }
 },
 "nbformat": 4,
 "nbformat_minor": 2
}
