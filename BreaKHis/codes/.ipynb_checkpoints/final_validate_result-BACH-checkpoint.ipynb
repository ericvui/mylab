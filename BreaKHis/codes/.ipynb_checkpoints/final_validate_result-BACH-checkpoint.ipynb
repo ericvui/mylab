{
 "cells": [
  {
   "cell_type": "code",
   "execution_count": null,
   "metadata": {},
   "outputs": [],
   "source": [
    "#===============================================Experiment 01:training BACH ds================================================\n",
    "\n",
    "import sys\n",
    "sys.path.append('../')\n",
    "\n",
    "from codes.data.train_model import train_and_test_model_by_load_data_for_BACH\n",
    "from codes.model.vgg_network import VGG\n",
    "\n",
    "vgg = VGG(rows=256, cols=256, channels=3,num_classes=1, pretrained=0,is_svm=1)\n",
    "\n",
    "\n",
    "input_ds_filename =\"/tf/dataset/classes/\"\n",
    "bs = 8\n",
    "vol_size = 1600\n",
    "epochs = 5\n",
    "fake_amount = 0 #4800\n",
    "mode = 'split'   #[split: 70/30] [cv: 5cross-validation]\n",
    "train_log, test_log = train_and_test_model_by_load_data_for_BACH(vgg.vgg, input_ds_filename,ratio=0.7, dataset_volume=vol_size\n",
    "                                           , epochs=epochs,batch_size=bs, print_interval=30 \n",
    "                                           , output_filename=\"/tf/experiments/BACH_train_vgg16_256x256_mode1.h5\"                                       \n",
    "                                           , fake_amount = fake_amount\n",
    "                                           , output_predict_file = \"/tf/dataset/BACH_validate_log_vgg16_256x256.csv\"\n",
    "                                           , mode = 'split' # 'split' vs. 'cv'\n",
    "                                          )"
   ]
  },
  {
   "cell_type": "code",
   "execution_count": null,
   "metadata": {},
   "outputs": [],
   "source": [
    "#===============================================Experiment 01:calculate accuracy====================================================\n",
    "\n",
    "from codes.data.calculate_accuracy import get_calculate_accuracy\n",
    "\n",
    "csv_file = '/tf/dataset/validate_log_vgg16_256x256.csv'\n",
    "epoches=5\n",
    "get_calculate_accuracy(csv_file,epoches,'method_B')"
   ]
  },
  {
   "cell_type": "code",
   "execution_count": null,
   "metadata": {},
   "outputs": [],
   "source": [
    "#===============================================Experiment 02:training====================================================\n",
    "\n",
    "import sys\n",
    "sys.path.append('../')\n",
    "\n",
    "from codes.data.train_model import train_and_test_model_by_load_data\n",
    "from codes.model.vgg_network import VGG\n",
    "\n",
    "vgg = VGG(rows=256, cols=256, channels=3,num_classes=1, pretrained=0,is_svm=1)\n",
    "\n",
    "\n",
    "input_ds_filename =\"/tf/dataset/classes/\"\n",
    "bs = 64\n",
    "vol_size = 31636\n",
    "epochs = 5\n",
    "fake_amount = 4800\n",
    "mode = 'split'   #[split: 70/30] [cv: 5cross-validation]\n",
    "train_log, test_log = train_and_test_model_by_load_data(vgg.vgg, input_ds_filename,ratio=0.7, dataset_volume=vol_size\n",
    "                                           , epochs=epochs,batch_size=bs, print_interval=30 \n",
    "                                           , output_filename=\"/tf/experiments/validate_vgg16_256x256_mode1_fake.h5\"                                       \n",
    "                                           , fake_amount = fake_amount\n",
    "                                           , output_predict_file = \"/tf/dataset/validate_log_vgg16_256x256_fake.csv\"\n",
    "                                           , mode = 'split' # 'split' vs. 'cv'\n",
    "                                          )"
   ]
  },
  {
   "cell_type": "code",
   "execution_count": null,
   "metadata": {},
   "outputs": [],
   "source": [
    "#===============================================Experiment 02:calculate accuracy====================================================\n",
    "\n",
    "from codes.data.calculate_accuracy import get_calculate_accuracy\n",
    "\n",
    "csv_file = '/tf/dataset/validate_log_vgg16_256x256_fake.csv'\n",
    "epoches=5\n",
    "get_calculate_accuracy(csv_file,epoches,'method_C')"
   ]
  },
  {
   "cell_type": "code",
   "execution_count": null,
   "metadata": {},
   "outputs": [],
   "source": [
    "#===============================================Experiment 03:training====================================================\n",
    "\n",
    "import numpy as np\n",
    "\n",
    "import sys\n",
    "sys.path.append('../')\n",
    "\n",
    "from codes.model.combined import build_combine_VGG16_VGG19\n",
    "\n",
    "combined_model = build_combine_VGG16_VGG19(img_shape=(256,256,3),num_classes=1)\n",
    "\n",
    "#layer 17 + 17\n",
    "from codes.data.train_model import train_and_test_model,train_and_test_model_by_load_data\n",
    "\n",
    "input_ds_filename =\"/tf/dataset/classes/\"\n",
    "bs = 32\n",
    "vol_size = 31636\n",
    "epochs = 5\n",
    "fake_amount = 0 #4800\n",
    "train_log, test_log = train_and_test_model_by_load_data(combined_model, input_ds_filename,ratio=0.7, dataset_volume=vol_size\n",
    "                                           , epochs=epochs,batch_size=bs, print_interval=30 \n",
    "                                           , output_filename=\"/tf/experiments/validate_combined_256x256.h5\"\n",
    "                                           , fake_amount = fake_amount\n",
    "                                           , output_predict_file = \"/tf/dataset/validate_log_combined_256x256.csv\"\n",
    "                                           , mode = 'split' # 'split' vs. 'cv'\n",
    "                                          )"
   ]
  },
  {
   "cell_type": "code",
   "execution_count": null,
   "metadata": {},
   "outputs": [],
   "source": [
    "#===============================================Experiment 03:calculate accuracy====================================================\n",
    "\n",
    "from codes.data.calculate_accuracy import get_calculate_accuracy\n",
    "\n",
    "csv_file = '/tf/dataset/validate_log_combined_256x256.csv'\n",
    "epoches=5\n",
    "get_calculate_accuracy(csv_file,epoches,'method_C')"
   ]
  },
  {
   "cell_type": "code",
   "execution_count": null,
   "metadata": {},
   "outputs": [],
   "source": [
    "#===============================================Experiment 04:training====================================================\n",
    "\n",
    "import numpy as np\n",
    "\n",
    "import sys\n",
    "sys.path.append('../')\n",
    "\n",
    "from codes.model.combined import build_combine_VGG16_VGG19\n",
    "\n",
    "combined_model = build_combine_VGG16_VGG19(img_shape=(256,256,3),num_classes=1)\n",
    "\n",
    "#layer 17 + 17\n",
    "from codes.data.train_model import train_and_test_model,train_and_test_model_by_load_data\n",
    "\n",
    "input_ds_filename =\"/tf/dataset/classes/\"\n",
    "bs = 32\n",
    "vol_size = 31636\n",
    "epochs = 5\n",
    "fake_amount = 4800\n",
    "train_log, test_log = train_and_test_model_by_load_data(combined_model, input_ds_filename,ratio=0.7, dataset_volume=vol_size\n",
    "                                           , epochs=epochs,batch_size=bs, print_interval=30 \n",
    "                                           , output_filename=\"/tf/experiments/validate_combined_256x256_fake.h5\"\n",
    "                                           , fake_amount = fake_amount\n",
    "                                           , output_predict_file = \"/tf/dataset/validate_log_combined_256x256_fake.csv\"\n",
    "                                           , mode = 'split' # 'split' vs. 'cv'\n",
    "                                          )"
   ]
  },
  {
   "cell_type": "code",
   "execution_count": null,
   "metadata": {},
   "outputs": [],
   "source": [
    "#===============================================Experiment 04:calculate accuracy====================================================\n",
    "\n",
    "from codes.data.calculate_accuracy import get_calculate_accuracy\n",
    "\n",
    "csv_file = '/tf/dataset/validate_log_combined_256x256_fake.csv'\n",
    "epoches=5\n",
    "get_calculate_accuracy(csv_file,epoches,'method_C')"
   ]
  },
  {
   "cell_type": "code",
   "execution_count": null,
   "metadata": {},
   "outputs": [],
   "source": []
  },
  {
   "cell_type": "code",
   "execution_count": null,
   "metadata": {},
   "outputs": [],
   "source": []
  },
  {
   "cell_type": "code",
   "execution_count": null,
   "metadata": {},
   "outputs": [],
   "source": []
  },
  {
   "cell_type": "code",
   "execution_count": null,
   "metadata": {},
   "outputs": [],
   "source": []
  }
 ],
 "metadata": {
  "kernelspec": {
   "display_name": "Python 3",
   "language": "python",
   "name": "python3"
  },
  "language_info": {
   "codemirror_mode": {
    "name": "ipython",
    "version": 3
   },
   "file_extension": ".py",
   "mimetype": "text/x-python",
   "name": "python",
   "nbconvert_exporter": "python",
   "pygments_lexer": "ipython3",
   "version": "3.5.2"
  }
 },
 "nbformat": 4,
 "nbformat_minor": 2
}
