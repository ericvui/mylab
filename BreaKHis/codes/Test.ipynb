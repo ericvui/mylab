{
 "cells": [
  {
   "cell_type": "code",
   "execution_count": 5,
   "metadata": {},
   "outputs": [],
   "source": [
    "import sys\n",
    "sys.path.append('../')\n",
    "import os\n",
    "from codes.model.unet_network import unet\n",
    "from codes.data.load_data import load_files\n",
    "from codes.data.utils import evaluate_model,predict_model\n",
    "\n",
    "import numpy as np\n",
    "import datetime"
   ]
  },
  {
   "cell_type": "code",
   "execution_count": 2,
   "metadata": {},
   "outputs": [],
   "source": [
    "#Prepare dataset\n",
    "files = \"C:\\\\dataset\\\\Test\"\n",
    "experiment = \"C:\\\\\"\n",
    "volumn = 17\n",
    "ratio = 0.7\n",
    "list_dataset = load_files(src_folder=files,split=ratio, filenamepattern=\"*.png\",dataset_volume = volumn,flag=1) \n"
   ]
  },
  {
   "cell_type": "code",
   "execution_count": 3,
   "metadata": {},
   "outputs": [
    {
     "name": "stdout",
     "output_type": "stream",
     "text": [
      "Model: \"model\"\n",
      "__________________________________________________________________________________________________\n",
      "Layer (type)                    Output Shape         Param #     Connected to                     \n",
      "==================================================================================================\n",
      "input_1 (InputLayer)            [(None, 256, 256, 3) 0                                            \n",
      "__________________________________________________________________________________________________\n",
      "conv2d (Conv2D)                 (None, 256, 256, 16) 448         input_1[0][0]                    \n",
      "__________________________________________________________________________________________________\n",
      "dropout (Dropout)               (None, 256, 256, 16) 0           conv2d[0][0]                     \n",
      "__________________________________________________________________________________________________\n",
      "conv2d_1 (Conv2D)               (None, 256, 256, 16) 2320        dropout[0][0]                    \n",
      "__________________________________________________________________________________________________\n",
      "max_pooling2d (MaxPooling2D)    (None, 128, 128, 16) 0           conv2d_1[0][0]                   \n",
      "__________________________________________________________________________________________________\n",
      "conv2d_2 (Conv2D)               (None, 128, 128, 32) 4640        max_pooling2d[0][0]              \n",
      "__________________________________________________________________________________________________\n",
      "dropout_1 (Dropout)             (None, 128, 128, 32) 0           conv2d_2[0][0]                   \n",
      "__________________________________________________________________________________________________\n",
      "conv2d_3 (Conv2D)               (None, 128, 128, 32) 9248        dropout_1[0][0]                  \n",
      "__________________________________________________________________________________________________\n",
      "max_pooling2d_1 (MaxPooling2D)  (None, 64, 64, 32)   0           conv2d_3[0][0]                   \n",
      "__________________________________________________________________________________________________\n",
      "conv2d_4 (Conv2D)               (None, 64, 64, 64)   18496       max_pooling2d_1[0][0]            \n",
      "__________________________________________________________________________________________________\n",
      "dropout_2 (Dropout)             (None, 64, 64, 64)   0           conv2d_4[0][0]                   \n",
      "__________________________________________________________________________________________________\n",
      "conv2d_5 (Conv2D)               (None, 64, 64, 64)   36928       dropout_2[0][0]                  \n",
      "__________________________________________________________________________________________________\n",
      "max_pooling2d_2 (MaxPooling2D)  (None, 32, 32, 64)   0           conv2d_5[0][0]                   \n",
      "__________________________________________________________________________________________________\n",
      "conv2d_6 (Conv2D)               (None, 32, 32, 128)  73856       max_pooling2d_2[0][0]            \n",
      "__________________________________________________________________________________________________\n",
      "dropout_3 (Dropout)             (None, 32, 32, 128)  0           conv2d_6[0][0]                   \n",
      "__________________________________________________________________________________________________\n",
      "conv2d_7 (Conv2D)               (None, 32, 32, 128)  147584      dropout_3[0][0]                  \n",
      "__________________________________________________________________________________________________\n",
      "max_pooling2d_3 (MaxPooling2D)  (None, 16, 16, 128)  0           conv2d_7[0][0]                   \n",
      "__________________________________________________________________________________________________\n",
      "conv2d_8 (Conv2D)               (None, 16, 16, 256)  295168      max_pooling2d_3[0][0]            \n",
      "__________________________________________________________________________________________________\n",
      "dropout_4 (Dropout)             (None, 16, 16, 256)  0           conv2d_8[0][0]                   \n",
      "__________________________________________________________________________________________________\n",
      "conv2d_9 (Conv2D)               (None, 16, 16, 256)  590080      dropout_4[0][0]                  \n",
      "__________________________________________________________________________________________________\n",
      "conv2d_transpose (Conv2DTranspo (None, 32, 32, 128)  131200      conv2d_9[0][0]                   \n",
      "__________________________________________________________________________________________________\n",
      "concatenate (Concatenate)       (None, 32, 32, 256)  0           conv2d_transpose[0][0]           \n",
      "                                                                 conv2d_7[0][0]                   \n",
      "__________________________________________________________________________________________________\n",
      "conv2d_10 (Conv2D)              (None, 32, 32, 128)  295040      concatenate[0][0]                \n",
      "__________________________________________________________________________________________________\n",
      "dropout_5 (Dropout)             (None, 32, 32, 128)  0           conv2d_10[0][0]                  \n",
      "__________________________________________________________________________________________________\n",
      "conv2d_11 (Conv2D)              (None, 32, 32, 128)  147584      dropout_5[0][0]                  \n",
      "__________________________________________________________________________________________________\n",
      "conv2d_transpose_1 (Conv2DTrans (None, 64, 64, 64)   32832       conv2d_11[0][0]                  \n",
      "__________________________________________________________________________________________________\n",
      "concatenate_1 (Concatenate)     (None, 64, 64, 128)  0           conv2d_transpose_1[0][0]         \n",
      "                                                                 conv2d_5[0][0]                   \n",
      "__________________________________________________________________________________________________\n",
      "conv2d_12 (Conv2D)              (None, 64, 64, 64)   73792       concatenate_1[0][0]              \n",
      "__________________________________________________________________________________________________\n",
      "dropout_6 (Dropout)             (None, 64, 64, 64)   0           conv2d_12[0][0]                  \n",
      "__________________________________________________________________________________________________\n",
      "conv2d_13 (Conv2D)              (None, 64, 64, 64)   36928       dropout_6[0][0]                  \n",
      "__________________________________________________________________________________________________\n",
      "conv2d_transpose_2 (Conv2DTrans (None, 128, 128, 32) 8224        conv2d_13[0][0]                  \n",
      "__________________________________________________________________________________________________\n",
      "concatenate_2 (Concatenate)     (None, 128, 128, 64) 0           conv2d_transpose_2[0][0]         \n",
      "                                                                 conv2d_3[0][0]                   \n",
      "__________________________________________________________________________________________________\n",
      "conv2d_14 (Conv2D)              (None, 128, 128, 32) 18464       concatenate_2[0][0]              \n",
      "__________________________________________________________________________________________________\n",
      "dropout_7 (Dropout)             (None, 128, 128, 32) 0           conv2d_14[0][0]                  \n",
      "__________________________________________________________________________________________________\n",
      "conv2d_15 (Conv2D)              (None, 128, 128, 32) 9248        dropout_7[0][0]                  \n",
      "__________________________________________________________________________________________________\n",
      "conv2d_transpose_3 (Conv2DTrans (None, 256, 256, 16) 2064        conv2d_15[0][0]                  \n",
      "__________________________________________________________________________________________________\n",
      "concatenate_3 (Concatenate)     (None, 256, 256, 32) 0           conv2d_transpose_3[0][0]         \n",
      "                                                                 conv2d_1[0][0]                   \n",
      "__________________________________________________________________________________________________\n",
      "conv2d_16 (Conv2D)              (None, 256, 256, 16) 4624        concatenate_3[0][0]              \n",
      "__________________________________________________________________________________________________\n",
      "dropout_8 (Dropout)             (None, 256, 256, 16) 0           conv2d_16[0][0]                  \n",
      "__________________________________________________________________________________________________\n",
      "conv2d_17 (Conv2D)              (None, 256, 256, 16) 2320        dropout_8[0][0]                  \n",
      "__________________________________________________________________________________________________\n",
      "conv2d_18 (Conv2D)              (None, 256, 256, 1)  17          conv2d_17[0][0]                  \n",
      "__________________________________________________________________________________________________\n",
      "flatten (Flatten)               (None, 65536)        0           conv2d_18[0][0]                  \n",
      "__________________________________________________________________________________________________\n",
      "dense (Dense)                   (None, 1)            65537       flatten[0][0]                    \n",
      "==================================================================================================\n",
      "Total params: 2,006,642\n",
      "Trainable params: 2,006,642\n",
      "Non-trainable params: 0\n",
      "__________________________________________________________________________________________________\n"
     ]
    }
   ],
   "source": [
    "#u-net\n",
    "train = list_dataset[0]\n",
    "test = list_dataset[1]\n",
    "val = list_dataset[2]\n",
    "unet_model = unet(input_size=(256,256,3),num_classes=1)\n",
    "batch_size = 1\n",
    "total_batch = (volumn * 0.7)//batch_size\n",
    "train = train.shuffle(int(volumn * ratio))\n",
    "train = train.batch(batch_size)\n",
    "val = val.batch(batch_size)"
   ]
  },
  {
   "cell_type": "code",
   "execution_count": 5,
   "metadata": {},
   "outputs": [
    {
     "name": "stdout",
     "output_type": "stream",
     "text": [
      "[Epoch 0/2] [Batch 0/11] [T loss: 2.296028, acc:   0%] time: 0:00:00.716442\n",
      "[Epoch 0/2] [Batch 1/11] [T loss: 2.264348, acc: 100%] time: 0:00:01.193561\n",
      "[Epoch 0/2] [Batch 2/11] [T loss: 1.904100, acc: 100%] time: 0:00:01.660195\n",
      "[Epoch 0/2] [Batch 3/11] [T loss: 2.429290, acc: 100%] time: 0:00:02.148659\n",
      "[Epoch 0/2] [Batch 4/11] [T loss: 2.268522, acc:   0%] time: 0:00:02.615039\n",
      "[Epoch 0/2] [Batch 5/11] [T loss: 2.224989, acc: 100%] time: 0:00:03.067042\n",
      "[Epoch 0/2] [Batch 6/11] [T loss: 2.258216, acc:   0%] time: 0:00:03.542216\n",
      "[Epoch 0/2] [Batch 7/11] [T loss: 2.248441, acc:   0%] time: 0:00:04.006462\n",
      "[Epoch 0/2] [Batch 8/11] [T loss: 2.225699, acc: 100%] time: 0:00:04.459051\n",
      "[Epoch 0/2] [Batch 9/11] [T loss: 2.178777, acc: 100%] time: 0:00:04.915631\n",
      "[Epoch 0/2] [Batch 10/11] [T loss: 2.226742, acc: 100%] time: 0:00:05.373097\n",
      "[Epoch 0/2] [Batch 0/11] [E loss: 2.385188, acc:   0%] time: 0:00:05.514636\n",
      "[Epoch 0/2] [Batch 1/11] [E loss: 2.385357, acc:   0%] time: 0:00:05.563530\n",
      "[Epoch 0/2] [Batch 2/11] [E loss: 2.033189, acc: 100%] time: 0:00:05.642430\n",
      "[Epoch 0/2] [Batch 3/11] [E loss: 2.387108, acc:   0%] time: 0:00:05.708523\n",
      "[Epoch 0/2] [Batch 4/11] [E loss: 2.390438, acc:   0%] time: 0:00:05.770319\n",
      "[Epoch 1/2] [Batch 0/11] [T loss: 2.357828, acc:   0%] time: 0:00:06.535437\n",
      "[Epoch 1/2] [Batch 1/11] [T loss: 1.817796, acc: 100%] time: 0:00:07.010196\n",
      "[Epoch 1/2] [Batch 2/11] [T loss: 1.930882, acc: 100%] time: 0:00:07.486062\n",
      "[Epoch 1/2] [Batch 3/11] [T loss: 2.647293, acc:   0%] time: 0:00:07.959977\n",
      "[Epoch 1/2] [Batch 4/11] [T loss: 2.118727, acc: 100%] time: 0:00:08.430551\n",
      "[Epoch 1/2] [Batch 5/11] [T loss: 2.037813, acc: 100%] time: 0:00:08.897675\n",
      "[Epoch 1/2] [Batch 6/11] [T loss: 2.496495, acc:   0%] time: 0:00:09.356071\n",
      "[Epoch 1/2] [Batch 7/11] [T loss: 1.504122, acc: 100%] time: 0:00:09.839740\n",
      "[Epoch 1/2] [Batch 8/11] [T loss: 3.527097, acc:   0%] time: 0:00:10.308996\n",
      "[Epoch 1/2] [Batch 9/11] [T loss: 1.885193, acc: 100%] time: 0:00:10.777393\n",
      "[Epoch 1/2] [Batch 10/11] [T loss: 1.950746, acc: 100%] time: 0:00:11.243883\n",
      "[Epoch 1/2] [Batch 0/11] [E loss: 8.708755, acc:   0%] time: 0:00:11.381945\n",
      "[Epoch 1/2] [Batch 1/11] [E loss: 8.737831, acc:   0%] time: 0:00:11.450845\n",
      "[Epoch 1/2] [Batch 2/11] [E loss: 1.125786, acc: 100%] time: 0:00:11.527748\n",
      "[Epoch 1/2] [Batch 3/11] [E loss: 8.804316, acc:   0%] time: 0:00:11.583646\n",
      "[Epoch 1/2] [Batch 4/11] [E loss: 8.799356, acc:   0%] time: 0:00:11.659162\n",
      "Model saved\n"
     ]
    }
   ],
   "source": [
    "from codes.data.utils import train_model \n",
    "epoches = 2\n",
    "total_batch = (volumn * ratio)//batch_size\n",
    "train_losses,val_losses = train_model(model=unet_model\n",
    "                                ,dataset_train=train, dataset_val=val\n",
    "                                , epochs = epoches\n",
    "                                , print_interval=1 \n",
    "                                , total_batch=total_batch\n",
    "                                , train_vol=int(volumn * ratio)\n",
    "                                , filename=\"C:\\\\test.h5\")"
   ]
  },
  {
   "cell_type": "code",
   "execution_count": 6,
   "metadata": {},
   "outputs": [
    {
     "data": {
      "image/png": "[encoded data removed]",
      "text/plain": [
       "<Figure size 432x288 with 2 Axes>"
      ]
     },
     "metadata": {
      "needs_background": "light"
     },
     "output_type": "display_data"
    }
   ],
   "source": [
    "from codes.data.utils import plotting\n",
    "plotting(train_losses,val_losses)"
   ]
  },
  {
   "cell_type": "code",
   "execution_count": 8,
   "metadata": {},
   "outputs": [
    {
     "name": "stdout",
     "output_type": "stream",
     "text": [
      "------------------------Predict model-----------------------------\n",
      "[True label: 1 ] [Predicted label: 0 ] [accuracy 0%]\n",
      "[True label: 1 ] [Predicted label: 0 ] [accuracy 0%]\n",
      "[True label: 1 ] [Predicted label: 0 ] [accuracy 0%]\n",
      "Average testing accuracy = 0.0\n"
     ]
    }
   ],
   "source": [
    "from codes.data.utils import predict_model_svm\n",
    "predict_model_svm(unet_model,test,\"c:\\\\test.pkl\")"
   ]
  },
  {
   "cell_type": "code",
   "execution_count": 1,
   "metadata": {},
   "outputs": [],
   "source": [
    "from tensorflow.keras.applications import VGG16"
   ]
  },
  {
   "cell_type": "code",
   "execution_count": 2,
   "metadata": {},
   "outputs": [],
   "source": [
    "vgg = VGG16(include_top=True)\n"
   ]
  },
  {
   "cell_type": "code",
   "execution_count": 3,
   "metadata": {},
   "outputs": [
    {
     "name": "stdout",
     "output_type": "stream",
     "text": [
      "Model: \"vgg16\"\n",
      "_________________________________________________________________\n",
      "Layer (type)                 Output Shape              Param #   \n",
      "=================================================================\n",
      "input_1 (InputLayer)         [(None, 224, 224, 3)]     0         \n",
      "_________________________________________________________________\n",
      "block1_conv1 (Conv2D)        (None, 224, 224, 64)      1792      \n",
      "_________________________________________________________________\n",
      "block1_conv2 (Conv2D)        (None, 224, 224, 64)      36928     \n",
      "_________________________________________________________________\n",
      "block1_pool (MaxPooling2D)   (None, 112, 112, 64)      0         \n",
      "_________________________________________________________________\n",
      "block2_conv1 (Conv2D)        (None, 112, 112, 128)     73856     \n",
      "_________________________________________________________________\n",
      "block2_conv2 (Conv2D)        (None, 112, 112, 128)     147584    \n",
      "_________________________________________________________________\n",
      "block2_pool (MaxPooling2D)   (None, 56, 56, 128)       0         \n",
      "_________________________________________________________________\n",
      "block3_conv1 (Conv2D)        (None, 56, 56, 256)       295168    \n",
      "_________________________________________________________________\n",
      "block3_conv2 (Conv2D)        (None, 56, 56, 256)       590080    \n",
      "_________________________________________________________________\n",
      "block3_conv3 (Conv2D)        (None, 56, 56, 256)       590080    \n",
      "_________________________________________________________________\n",
      "block3_pool (MaxPooling2D)   (None, 28, 28, 256)       0         \n",
      "_________________________________________________________________\n",
      "block4_conv1 (Conv2D)        (None, 28, 28, 512)       1180160   \n",
      "_________________________________________________________________\n",
      "block4_conv2 (Conv2D)        (None, 28, 28, 512)       2359808   \n",
      "_________________________________________________________________\n",
      "block4_conv3 (Conv2D)        (None, 28, 28, 512)       2359808   \n",
      "_________________________________________________________________\n",
      "block4_pool (MaxPooling2D)   (None, 14, 14, 512)       0         \n",
      "_________________________________________________________________\n",
      "block5_conv1 (Conv2D)        (None, 14, 14, 512)       2359808   \n",
      "_________________________________________________________________\n",
      "block5_conv2 (Conv2D)        (None, 14, 14, 512)       2359808   \n",
      "_________________________________________________________________\n",
      "block5_conv3 (Conv2D)        (None, 14, 14, 512)       2359808   \n",
      "_________________________________________________________________\n",
      "block5_pool (MaxPooling2D)   (None, 7, 7, 512)         0         \n",
      "_________________________________________________________________\n",
      "flatten (Flatten)            (None, 25088)             0         \n",
      "_________________________________________________________________\n",
      "fc1 (Dense)                  (None, 4096)              102764544 \n",
      "_________________________________________________________________\n",
      "fc2 (Dense)                  (None, 4096)              16781312  \n",
      "_________________________________________________________________\n",
      "predictions (Dense)          (None, 1000)              4097000   \n",
      "=================================================================\n",
      "Total params: 138,357,544\n",
      "Trainable params: 138,357,544\n",
      "Non-trainable params: 0\n",
      "_________________________________________________________________\n"
     ]
    }
   ],
   "source": [
    "vgg.summary()"
   ]
  },
  {
   "cell_type": "code",
   "execution_count": 6,
   "metadata": {},
   "outputs": [],
   "source": [
    "from codes.model.pix2pix_network import Pix2Pix"
   ]
  },
  {
   "cell_type": "code",
   "execution_count": 7,
   "metadata": {},
   "outputs": [],
   "source": [
    "pixmodel = Pix2Pix()"
   ]
  },
  {
   "cell_type": "code",
   "execution_count": 8,
   "metadata": {},
   "outputs": [
    {
     "name": "stdout",
     "output_type": "stream",
     "text": [
      "Model: \"model_1\"\n",
      "__________________________________________________________________________________________________\n",
      "Layer (type)                    Output Shape         Param #     Connected to                     \n",
      "==================================================================================================\n",
      "input_4 (InputLayer)            [(None, 256, 256, 3) 0                                            \n",
      "__________________________________________________________________________________________________\n",
      "conv2d_5 (Conv2D)               (None, 128, 128, 64) 3136        input_4[0][0]                    \n",
      "__________________________________________________________________________________________________\n",
      "leaky_re_lu_4 (LeakyReLU)       (None, 128, 128, 64) 0           conv2d_5[0][0]                   \n",
      "__________________________________________________________________________________________________\n",
      "conv2d_6 (Conv2D)               (None, 64, 64, 128)  131200      leaky_re_lu_4[0][0]              \n",
      "__________________________________________________________________________________________________\n",
      "leaky_re_lu_5 (LeakyReLU)       (None, 64, 64, 128)  0           conv2d_6[0][0]                   \n",
      "__________________________________________________________________________________________________\n",
      "batch_normalization_v2_3 (Batch (None, 64, 64, 128)  512         leaky_re_lu_5[0][0]              \n",
      "__________________________________________________________________________________________________\n",
      "conv2d_7 (Conv2D)               (None, 32, 32, 256)  524544      batch_normalization_v2_3[0][0]   \n",
      "__________________________________________________________________________________________________\n",
      "leaky_re_lu_6 (LeakyReLU)       (None, 32, 32, 256)  0           conv2d_7[0][0]                   \n",
      "__________________________________________________________________________________________________\n",
      "batch_normalization_v2_4 (Batch (None, 32, 32, 256)  1024        leaky_re_lu_6[0][0]              \n",
      "__________________________________________________________________________________________________\n",
      "conv2d_8 (Conv2D)               (None, 16, 16, 512)  2097664     batch_normalization_v2_4[0][0]   \n",
      "__________________________________________________________________________________________________\n",
      "leaky_re_lu_7 (LeakyReLU)       (None, 16, 16, 512)  0           conv2d_8[0][0]                   \n",
      "__________________________________________________________________________________________________\n",
      "batch_normalization_v2_5 (Batch (None, 16, 16, 512)  2048        leaky_re_lu_7[0][0]              \n",
      "__________________________________________________________________________________________________\n",
      "conv2d_9 (Conv2D)               (None, 8, 8, 512)    4194816     batch_normalization_v2_5[0][0]   \n",
      "__________________________________________________________________________________________________\n",
      "leaky_re_lu_8 (LeakyReLU)       (None, 8, 8, 512)    0           conv2d_9[0][0]                   \n",
      "__________________________________________________________________________________________________\n",
      "batch_normalization_v2_6 (Batch (None, 8, 8, 512)    2048        leaky_re_lu_8[0][0]              \n",
      "__________________________________________________________________________________________________\n",
      "conv2d_10 (Conv2D)              (None, 4, 4, 512)    4194816     batch_normalization_v2_6[0][0]   \n",
      "__________________________________________________________________________________________________\n",
      "leaky_re_lu_9 (LeakyReLU)       (None, 4, 4, 512)    0           conv2d_10[0][0]                  \n",
      "__________________________________________________________________________________________________\n",
      "batch_normalization_v2_7 (Batch (None, 4, 4, 512)    2048        leaky_re_lu_9[0][0]              \n",
      "__________________________________________________________________________________________________\n",
      "conv2d_11 (Conv2D)              (None, 2, 2, 512)    4194816     batch_normalization_v2_7[0][0]   \n",
      "__________________________________________________________________________________________________\n",
      "leaky_re_lu_10 (LeakyReLU)      (None, 2, 2, 512)    0           conv2d_11[0][0]                  \n",
      "__________________________________________________________________________________________________\n",
      "batch_normalization_v2_8 (Batch (None, 2, 2, 512)    2048        leaky_re_lu_10[0][0]             \n",
      "__________________________________________________________________________________________________\n",
      "up_sampling2d (UpSampling2D)    (None, 4, 4, 512)    0           batch_normalization_v2_8[0][0]   \n",
      "__________________________________________________________________________________________________\n",
      "conv2d_12 (Conv2D)              (None, 4, 4, 512)    4194816     up_sampling2d[0][0]              \n",
      "__________________________________________________________________________________________________\n",
      "batch_normalization_v2_9 (Batch (None, 4, 4, 512)    2048        conv2d_12[0][0]                  \n",
      "__________________________________________________________________________________________________\n",
      "concatenate_1 (Concatenate)     (None, 4, 4, 1024)   0           batch_normalization_v2_9[0][0]   \n",
      "                                                                 batch_normalization_v2_7[0][0]   \n",
      "__________________________________________________________________________________________________\n",
      "up_sampling2d_1 (UpSampling2D)  (None, 8, 8, 1024)   0           concatenate_1[0][0]              \n",
      "__________________________________________________________________________________________________\n",
      "conv2d_13 (Conv2D)              (None, 8, 8, 512)    8389120     up_sampling2d_1[0][0]            \n",
      "__________________________________________________________________________________________________\n",
      "batch_normalization_v2_10 (Batc (None, 8, 8, 512)    2048        conv2d_13[0][0]                  \n",
      "__________________________________________________________________________________________________\n",
      "concatenate_2 (Concatenate)     (None, 8, 8, 1024)   0           batch_normalization_v2_10[0][0]  \n",
      "                                                                 batch_normalization_v2_6[0][0]   \n",
      "__________________________________________________________________________________________________\n",
      "up_sampling2d_2 (UpSampling2D)  (None, 16, 16, 1024) 0           concatenate_2[0][0]              \n",
      "__________________________________________________________________________________________________\n",
      "conv2d_14 (Conv2D)              (None, 16, 16, 512)  8389120     up_sampling2d_2[0][0]            \n",
      "__________________________________________________________________________________________________\n",
      "batch_normalization_v2_11 (Batc (None, 16, 16, 512)  2048        conv2d_14[0][0]                  \n",
      "__________________________________________________________________________________________________\n",
      "concatenate_3 (Concatenate)     (None, 16, 16, 1024) 0           batch_normalization_v2_11[0][0]  \n",
      "                                                                 batch_normalization_v2_5[0][0]   \n",
      "__________________________________________________________________________________________________\n",
      "up_sampling2d_3 (UpSampling2D)  (None, 32, 32, 1024) 0           concatenate_3[0][0]              \n",
      "__________________________________________________________________________________________________\n",
      "conv2d_15 (Conv2D)              (None, 32, 32, 256)  4194560     up_sampling2d_3[0][0]            \n",
      "__________________________________________________________________________________________________\n",
      "batch_normalization_v2_12 (Batc (None, 32, 32, 256)  1024        conv2d_15[0][0]                  \n",
      "__________________________________________________________________________________________________\n",
      "concatenate_4 (Concatenate)     (None, 32, 32, 512)  0           batch_normalization_v2_12[0][0]  \n",
      "                                                                 batch_normalization_v2_4[0][0]   \n",
      "__________________________________________________________________________________________________\n",
      "up_sampling2d_4 (UpSampling2D)  (None, 64, 64, 512)  0           concatenate_4[0][0]              \n",
      "__________________________________________________________________________________________________\n",
      "conv2d_16 (Conv2D)              (None, 64, 64, 128)  1048704     up_sampling2d_4[0][0]            \n",
      "__________________________________________________________________________________________________\n",
      "batch_normalization_v2_13 (Batc (None, 64, 64, 128)  512         conv2d_16[0][0]                  \n",
      "__________________________________________________________________________________________________\n",
      "concatenate_5 (Concatenate)     (None, 64, 64, 256)  0           batch_normalization_v2_13[0][0]  \n",
      "                                                                 batch_normalization_v2_3[0][0]   \n",
      "__________________________________________________________________________________________________\n",
      "up_sampling2d_5 (UpSampling2D)  (None, 128, 128, 256 0           concatenate_5[0][0]              \n",
      "__________________________________________________________________________________________________\n",
      "conv2d_17 (Conv2D)              (None, 128, 128, 64) 262208      up_sampling2d_5[0][0]            \n",
      "__________________________________________________________________________________________________\n",
      "batch_normalization_v2_14 (Batc (None, 128, 128, 64) 256         conv2d_17[0][0]                  \n",
      "__________________________________________________________________________________________________\n",
      "concatenate_6 (Concatenate)     (None, 128, 128, 128 0           batch_normalization_v2_14[0][0]  \n",
      "                                                                 leaky_re_lu_4[0][0]              \n",
      "__________________________________________________________________________________________________\n",
      "up_sampling2d_6 (UpSampling2D)  (None, 256, 256, 128 0           concatenate_6[0][0]              \n",
      "__________________________________________________________________________________________________\n",
      "conv2d_18 (Conv2D)              (None, 256, 256, 3)  6147        up_sampling2d_6[0][0]            \n",
      "==================================================================================================\n",
      "Total params: 41,843,331\n",
      "Trainable params: 41,834,499\n",
      "Non-trainable params: 8,832\n",
      "__________________________________________________________________________________________________\n"
     ]
    }
   ],
   "source": [
    "pixmodel.generator.summary()"
   ]
  },
  {
   "cell_type": "code",
   "execution_count": 9,
   "metadata": {},
   "outputs": [],
   "source": [
    "import sys\n",
    "sys.path.append('../')\n",
    "\n",
    "from codes.data.load_data import load_files\n",
    "from codes.model.vgg_network import VGG19\n",
    "vgg = VGG(rows=256, cols=256, channels=3,num_classes=1, pretrained=0,is_svm=1)\n"
   ]
  },
  {
   "cell_type": "code",
   "execution_count": 11,
   "metadata": {},
   "outputs": [
    {
     "name": "stdout",
     "output_type": "stream",
     "text": [
      "0 <tensorflow.python.keras.engine.input_layer.InputLayer object at 0x0000005C730055F8>\n",
      "1 <tensorflow.python.keras.layers.convolutional.Conv2D object at 0x0000005C3ECC6C50>\n",
      "2 <tensorflow.python.keras.layers.convolutional.Conv2D object at 0x0000005C3ECC6E48>\n",
      "3 <tensorflow.python.keras.layers.pooling.MaxPooling2D object at 0x0000005C3ECD0E80>\n",
      "4 <tensorflow.python.keras.layers.convolutional.Conv2D object at 0x0000005C3ECDA2E8>\n",
      "5 <tensorflow.python.keras.layers.convolutional.Conv2D object at 0x0000005C3ECED8D0>\n",
      "6 <tensorflow.python.keras.layers.pooling.MaxPooling2D object at 0x0000005C3ED04B00>\n",
      "7 <tensorflow.python.keras.layers.convolutional.Conv2D object at 0x0000005C3ED1D320>\n",
      "8 <tensorflow.python.keras.layers.convolutional.Conv2D object at 0x0000005C3FEE4E10>\n",
      "9 <tensorflow.python.keras.layers.convolutional.Conv2D object at 0x0000005C3FEF6780>\n",
      "10 <tensorflow.python.keras.layers.pooling.MaxPooling2D object at 0x0000005C3FF0FB00>\n",
      "11 <tensorflow.python.keras.layers.convolutional.Conv2D object at 0x0000005C3FCF4320>\n",
      "12 <tensorflow.python.keras.layers.convolutional.Conv2D object at 0x0000005C3FCFFE10>\n",
      "13 <tensorflow.python.keras.layers.convolutional.Conv2D object at 0x0000005C3FD15780>\n",
      "14 <tensorflow.python.keras.layers.pooling.MaxPooling2D object at 0x0000005C3FD27B00>\n",
      "15 <tensorflow.python.keras.layers.convolutional.Conv2D object at 0x0000005C3FD3E320>\n",
      "16 <tensorflow.python.keras.layers.convolutional.Conv2D object at 0x0000005C3FD48E10>\n",
      "17 <tensorflow.python.keras.layers.convolutional.Conv2D object at 0x0000005C3FD5D780>\n",
      "18 <tensorflow.python.keras.layers.pooling.MaxPooling2D object at 0x0000005C3FD72B00>\n",
      "19 <tensorflow.python.keras.layers.core.Flatten object at 0x0000005C3FD72160>\n",
      "20 <tensorflow.python.keras.layers.core.Dense object at 0x0000005C3FD93A20>\n",
      "21 <tensorflow.python.keras.layers.core.Dropout object at 0x0000005C3FD93B70>\n",
      "22 <tensorflow.python.keras.layers.core.Dense object at 0x0000005C3FD93DD8>\n",
      "23 <tensorflow.python.keras.layers.core.Dense object at 0x0000005C3FF4FF60>\n"
     ]
    }
   ],
   "source": [
    "for i, layer in enumerate(vgg.vgg.layers):\n",
    "    print(i,layer)"
   ]
  },
  {
   "cell_type": "code",
   "execution_count": 10,
   "metadata": {},
   "outputs": [],
   "source": [
    "from tensorflow.keras.applications import VGG19\n",
    "\n",
    "model = VGG19(include_top=False, weights='imagenet', input_shape=[256,256,3])"
   ]
  },
  {
   "cell_type": "code",
   "execution_count": 5,
   "metadata": {},
   "outputs": [
    {
     "data": {
      "text/plain": [
       "19"
      ]
     },
     "execution_count": 5,
     "metadata": {},
     "output_type": "execute_result"
    }
   ],
   "source": [
    "len(model.layers)"
   ]
  },
  {
   "cell_type": "code",
   "execution_count": 11,
   "metadata": {},
   "outputs": [
    {
     "name": "stdout",
     "output_type": "stream",
     "text": [
      "0 <tensorflow.python.keras.engine.input_layer.InputLayer object at 0x7fad6c0add30>\n",
      "1 <tensorflow.python.keras.layers.convolutional.Conv2D object at 0x7fad5879b940>\n",
      "2 <tensorflow.python.keras.layers.convolutional.Conv2D object at 0x7fad587b47b8>\n",
      "3 <tensorflow.python.keras.layers.pooling.MaxPooling2D object at 0x7fad587b4f98>\n",
      "4 <tensorflow.python.keras.layers.convolutional.Conv2D object at 0x7fad5873c5c0>\n",
      "5 <tensorflow.python.keras.layers.convolutional.Conv2D object at 0x7fad5874da20>\n",
      "6 <tensorflow.python.keras.layers.pooling.MaxPooling2D object at 0x7fad5875f9e8>\n",
      "7 <tensorflow.python.keras.layers.convolutional.Conv2D object at 0x7fad5876e198>\n",
      "8 <tensorflow.python.keras.layers.convolutional.Conv2D object at 0x7fad586f95f8>\n",
      "9 <tensorflow.python.keras.layers.convolutional.Conv2D object at 0x7fad5870a5c0>\n",
      "10 <tensorflow.python.keras.layers.convolutional.Conv2D object at 0x7fad5871a8d0>\n",
      "11 <tensorflow.python.keras.layers.pooling.MaxPooling2D object at 0x7fad5872ec18>\n",
      "12 <tensorflow.python.keras.layers.convolutional.Conv2D object at 0x7fad587333c8>\n",
      "13 <tensorflow.python.keras.layers.convolutional.Conv2D object at 0x7fad586c4828>\n",
      "14 <tensorflow.python.keras.layers.convolutional.Conv2D object at 0x7fad586d37f0>\n",
      "15 <tensorflow.python.keras.layers.convolutional.Conv2D object at 0x7fad586e8b38>\n",
      "16 <tensorflow.python.keras.layers.pooling.MaxPooling2D object at 0x7fad586ef7f0>\n",
      "17 <tensorflow.python.keras.layers.convolutional.Conv2D object at 0x7fad58680630>\n",
      "18 <tensorflow.python.keras.layers.convolutional.Conv2D object at 0x7fad58693a90>\n",
      "19 <tensorflow.python.keras.layers.convolutional.Conv2D object at 0x7fad586a3a58>\n",
      "20 <tensorflow.python.keras.layers.convolutional.Conv2D object at 0x7fad586b1f28>\n",
      "21 <tensorflow.python.keras.layers.pooling.MaxPooling2D object at 0x7fad5863cda0>\n"
     ]
    }
   ],
   "source": [
    "for i, layer in enumerate(model.layers):\n",
    "    print(i,layer)"
   ]
  },
  {
   "cell_type": "code",
   "execution_count": null,
   "metadata": {},
   "outputs": [
    {
     "name": "stderr",
     "output_type": "stream",
     "text": [
      "/usr/local/lib/python3.5/dist-packages/keras_applications/mobilenet.py:208: UserWarning: MobileNet shape is undefined. Weights for input shape (224, 224) will be loaded.\n",
      "  warnings.warn('MobileNet shape is undefined.'\n"
     ]
    }
   ],
   "source": [
    "from tensorflow.keras.applications import MobileNet\n",
    "model = MobileNet(include_top=False)"
   ]
  },
  {
   "cell_type": "code",
   "execution_count": 1,
   "metadata": {},
   "outputs": [
    {
     "data": {
      "text/plain": [
       "45"
      ]
     },
     "execution_count": 1,
     "metadata": {},
     "output_type": "execute_result"
    }
   ],
   "source": [
    "import random\n",
    "random.randint(1,101)"
   ]
  }
 ],
 "metadata": {
  "kernelspec": {
   "display_name": "Python 3",
   "language": "python",
   "name": "python3"
  },
  "language_info": {
   "codemirror_mode": {
    "name": "ipython",
    "version": 3
   },
   "file_extension": ".py",
   "mimetype": "text/x-python",
   "name": "python",
   "nbconvert_exporter": "python",
   "pygments_lexer": "ipython3",
   "version": "3.5.2"
  }
 },
 "nbformat": 4,
 "nbformat_minor": 2
}
