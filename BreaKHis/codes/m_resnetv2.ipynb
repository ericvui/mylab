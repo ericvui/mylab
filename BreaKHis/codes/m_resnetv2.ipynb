{
 "cells": [
  {
   "cell_type": "code",
   "execution_count": 1,
   "metadata": {},
   "outputs": [],
   "source": [
    "\n",
    "import numpy as np\n",
    "# without FAKE images + Mobilenet pretrain\n",
    "\n",
    "import sys\n",
    "sys.path.append('../')\n",
    "\n",
    "from codes.data.train_model import train_and_test_model,train_and_test_model_by_load_data\n",
    "from codes.data.create_dataset_01 import create_dataset,load_dataset\n",
    "\n",
    "from codes.model.resnetv2 import build_InceptionResNetV2_pretrain\n",
    "\n",
    " \n",
    "model = build_InceptionResNetV2_pretrain(img_shape=(128,128,3),num_classes=1)"
   ]
  },
  {
   "cell_type": "code",
   "execution_count": null,
   "metadata": {},
   "outputs": [],
   "source": [
    "import numpy as np\n",
    "\n",
    "import sys\n",
    "sys.path.append('../')\n",
    "\n",
    "from codes.data.train_model import train_and_test_model,train_and_test_model_by_load_data\n",
    "from codes.data.create_dataset_01 import create_dataset,load_dataset\n",
    "\n",
    "\n",
    "\n",
    "input_ds_filename =\"/tf/dataset/classes/\"\n",
    "bs = 64\n",
    "vol_size = 31636\n",
    "epochs = 5\n",
    "train_log, test_log = train_and_test_model_by_load_data(model, input_ds_filename,ratio=0.7, dataset_volume=vol_size\n",
    "                                           , epochs=epochs,batch_size=bs, print_interval=10 \n",
    "                                           , output_filename=\"/tf/experiments/vgg16_64x64_2hvaxis_64.h5\"\n",
    "                                           \n",
    "                                          )\n"
   ]
  },
  {
   "cell_type": "code",
   "execution_count": null,
   "metadata": {},
   "outputs": [],
   "source": []
  }
 ],
 "metadata": {
  "kernelspec": {
   "display_name": "Python 3",
   "language": "python",
   "name": "python3"
  },
  "language_info": {
   "codemirror_mode": {
    "name": "ipython",
    "version": 3
   },
   "file_extension": ".py",
   "mimetype": "text/x-python",
   "name": "python",
   "nbconvert_exporter": "python",
   "pygments_lexer": "ipython3",
   "version": "3.5.2"
  }
 },
 "nbformat": 4,
 "nbformat_minor": 2
}
