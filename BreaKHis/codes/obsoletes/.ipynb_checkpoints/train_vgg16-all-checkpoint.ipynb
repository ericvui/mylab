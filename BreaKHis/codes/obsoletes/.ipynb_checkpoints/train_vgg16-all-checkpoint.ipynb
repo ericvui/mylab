{
 "cells": [
  {
   "cell_type": "code",
   "execution_count": null,
   "metadata": {},
   "outputs": [],
   "source": [
    "import sys\n",
    "sys.path.append('../')\n",
    "\n",
    "from codes.data.load_data import load_files\n",
    "from codes.model.vgg_network import VGG\n",
    "\n"
   ]
  },
  {
   "cell_type": "code",
   "execution_count": null,
   "metadata": {},
   "outputs": [],
   "source": [
    "volumn = 7909\n",
    "\n",
    "src_folder = \"C:\\\\dataset\\BreaKHis_v1\\\\histology_slides\\\\breast\" #\"F:\\\\GraduateClass\\\\Thesis\\\\Dataset\\\\BreaKHis\\\\histology_slides\\\\breast\"\n",
    "datasets = load_files(src_folder,0.7, \"*.png\",volumn,1)\n"
   ]
  },
  {
   "cell_type": "code",
   "execution_count": null,
   "metadata": {},
   "outputs": [],
   "source": [
    "i = 0\n",
    "for x, y in train:\n",
    "    print(x.shape)\n",
    "    i = i + 1\n",
    "    break\n",
    "print (i)"
   ]
  },
  {
   "cell_type": "code",
   "execution_count": null,
   "metadata": {},
   "outputs": [],
   "source": [
    "\n",
    "vgg = VGG(rows=224, cols=224, channels=3,num_classes=1, pretrained=1,is_svm=1)\n",
    "vgg.vgg.summary()"
   ]
  },
  {
   "cell_type": "code",
   "execution_count": null,
   "metadata": {},
   "outputs": [],
   "source": [
    "# train model\n",
    "batch_size = 8\n",
    "total_batch = (volumn * 0.7)//batch_size\n",
    "full_train_size = batch_size * (total_batch-1)\n",
    "train = datasets[0]\n",
    "test = datasets[1]\n",
    "val = datasets[2]\n",
    "train = train.shuffle(int(volumn * 0.7))\n",
    "train = train.batch(batch_size)\n",
    "val = val.batch(batch_size)\n",
    "epochs = 3\n",
    "train_loss, val_loss = vgg.train(train,val,epochs,batch_size,10,total_batch, train_vol = int(volumn * 0.7))"
   ]
  },
  {
   "cell_type": "code",
   "execution_count": null,
   "metadata": {},
   "outputs": [],
   "source": []
  },
  {
   "cell_type": "code",
   "execution_count": null,
   "metadata": {},
   "outputs": [],
   "source": []
  },
  {
   "cell_type": "code",
   "execution_count": null,
   "metadata": {},
   "outputs": [],
   "source": [
    "batch_size = 2\n",
    "total_batch = (volumn * 0.7)//batch_size\n",
    "full_train_size = batch_size * (total_batch-1)\n",
    "train1 = datasets[0]\n",
    "test1 = datasets[1]\n",
    "val1 = datasets[2]\n",
    "train1 = train1.shuffle(int(volumn * 0.7))\n",
    "train1 = train1.batch(batch_size)\n",
    "val1 = val1.batch(batch_size)"
   ]
  },
  {
   "cell_type": "code",
   "execution_count": null,
   "metadata": {},
   "outputs": [],
   "source": []
  },
  {
   "cell_type": "code",
   "execution_count": null,
   "metadata": {},
   "outputs": [],
   "source": [
    "epochs=10\n",
    "train_loss, val_loss = vgg.train(train1,val1,epochs,batch_size,10,total_batch, train_vol = int(volumn * 0.7))"
   ]
  },
  {
   "cell_type": "code",
   "execution_count": null,
   "metadata": {},
   "outputs": [],
   "source": [
    "from codes.data.utils import predict_model,plotting\n",
    "plotting(train_loss,val_loss)\n",
    "test = test.batch(1)\n",
    "test_log_file = 'C:\\\\breakhis-224-224-all.pkl'\n",
    "test_logs = predict_model(vgg.vgg,test,test_log_file)"
   ]
  }
 ],
 "metadata": {
  "kernelspec": {
   "display_name": "Python 3",
   "language": "python",
   "name": "python3"
  },
  "language_info": {
   "codemirror_mode": {
    "name": "ipython",
    "version": 3
   },
   "file_extension": ".py",
   "mimetype": "text/x-python",
   "name": "python",
   "nbconvert_exporter": "python",
   "pygments_lexer": "ipython3",
   "version": "3.6.8"
  }
 },
 "nbformat": 4,
 "nbformat_minor": 2
}
